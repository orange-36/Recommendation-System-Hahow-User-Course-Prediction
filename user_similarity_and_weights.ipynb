{
 "cells": [
  {
   "cell_type": "code",
   "execution_count": 2,
   "metadata": {},
   "outputs": [],
   "source": [
    "import pandas as pd\n",
    "import numpy as np\n",
    "import pickle\n",
    "\n",
    "users_df = pd.read_csv('./data/users.csv')\n",
    "course_df = pd.read_csv('./data/courses.csv')\n",
    "train_df = pd.read_csv('./data/train.csv')\n",
    "val_seen_df = pd.read_csv('./data/val_seen.csv')\n",
    "test_seen_df = pd.read_csv('./data/test_seen.csv')\n",
    "val_unseen_df = pd.read_csv('./data/val_unseen.csv')\n",
    "test_unseen_df = pd.read_csv('./data/test_unseen.csv')"
   ]
  },
  {
   "attachments": {},
   "cell_type": "markdown",
   "metadata": {},
   "source": [
    "# User Tokenize"
   ]
  },
  {
   "attachments": {},
   "cell_type": "markdown",
   "metadata": {},
   "source": [
    "## 清理資料和選取features"
   ]
  },
  {
   "cell_type": "code",
   "execution_count": null,
   "metadata": {},
   "outputs": [],
   "source": [
    "users_course_df = pd.merge(users_df, train_df, how=\"outer\")\n",
    "\n",
    "id2course_mapping = course_df[\"course_id\"].to_dict()\n",
    "course2id_mapping = {v : k for k, v in id2course_mapping.items()}\n",
    "print(len(course2id_mapping))\n",
    "\n",
    "id2user_mapping = users_course_df[\"user_id\"].to_dict()\n",
    "user2id_mapping = {v : k for k, v in id2user_mapping.items()}"
   ]
  },
  {
   "cell_type": "code",
   "execution_count": null,
   "metadata": {},
   "outputs": [],
   "source": [
    "def clean_data(x):\n",
    "    x = x.replace(\"其他\", \"\")\n",
    "    x = x.replace(\"other\", \"\")\n",
    "    return x\n",
    "\n",
    "filledna_df = users_course_df.fillna('')\n",
    "features = ['gender', 'occupation_titles', 'interests', 'recreation_names', 'course_id']\n",
    "filledna_df = filledna_df[features]\n",
    "for feature in features:\n",
    "    filledna_df[feature] = filledna_df[feature].apply(clean_data)"
   ]
  },
  {
   "cell_type": "code",
   "execution_count": 6,
   "metadata": {},
   "outputs": [],
   "source": [
    "def create_soup(x):\n",
    "    return x['gender']+ ' ' + x['occupation_titles'] + ' ' + x['interests'] + ' ' + x['recreation_names']\n",
    "def create_soup_with_courseID(x):\n",
    "    return x['gender']+ ' ' + x['occupation_titles'] + ' ' + x['interests'] + ' ' + x['recreation_names'] + \" \" + x['course_id']\n",
    "\n",
    "#filledna_df['soup'] = filledna_df.apply(create_soup, axis=1)\n",
    "filledna_df['soup_with_courseID'] = filledna_df.apply(create_soup_with_courseID, axis=1) # 加入課程ID資訊，隱含user-item的關係"
   ]
  },
  {
   "attachments": {},
   "cell_type": "markdown",
   "metadata": {},
   "source": [
    "## 將user文本資料轉向量並計算users間的相似度"
   ]
  },
  {
   "cell_type": "code",
   "execution_count": 8,
   "metadata": {},
   "outputs": [],
   "source": [
    "from sklearn.metrics.pairwise import cosine_similarity\n",
    "from sklearn.feature_extraction.text import TfidfVectorizer\n",
    "\n",
    "tfidf_add_course = TfidfVectorizer()\n",
    "tfidf_add_course_matrix = tfidf.fit_transform(filledna_df['soup_with_courseID'])\n",
    "cosine_sim = cosine_similarity(tfidf_add_course_matrix, tfidf_add_course_matrix)"
   ]
  },
  {
   "cell_type": "code",
   "execution_count": 13,
   "metadata": {},
   "outputs": [],
   "source": [
    "tfidf_save = {\"TfidfVectorizer\": tfidf_add_course, \"Tfidf_matrix\": tfidf_add_course_matrix, \"Cos_sim\":cosine_sim}\n",
    "with open('user_add_course_embedding.pickle', 'wb') as f:\n",
    "    pickle.dump(tfidf_save, f)"
   ]
  },
  {
   "attachments": {},
   "cell_type": "markdown",
   "metadata": {},
   "source": [
    "# 提前算出和user最相似且買過課程的300個users和對應權重"
   ]
  },
  {
   "cell_type": "code",
   "execution_count": null,
   "metadata": {},
   "outputs": [],
   "source": [
    "user_haved_purchased_course = {}\n",
    "\n",
    "train_user_haved_purchased_course = {}\n",
    "for seen_user_id, course_ids in zip(train_df[\"user_id\"], train_df[\"course_id\"]):\n",
    "    course_id_list = course_ids.split(' ')\n",
    "    train_user_haved_purchased_course[seen_user_id] = train_user_haved_purchased_course.setdefault(seen_user_id, []) + course_id_list\n",
    "    user_haved_purchased_course[seen_user_id] = user_haved_purchased_course.setdefault(seen_user_id, []) + course_id_list\n",
    "\n",
    "val_seen_user_haved_purchased_course = {}\n",
    "for seen_user_id, course_ids in zip(val_seen_df[\"user_id\"], val_seen_df[\"course_id\"]):\n",
    "    course_id_list = course_ids.split(' ')\n",
    "    val_seen_user_haved_purchased_course[seen_user_id] = val_seen_user_haved_purchased_course.setdefault(seen_user_id, []) + course_id_list\n",
    "    user_haved_purchased_course[seen_user_id] = user_haved_purchased_course.setdefault(seen_user_id, []) + course_id_list\n",
    "    \n",
    "val_unseen_user_haved_purchased_course = {}\n",
    "for unseen_user_id, course_ids in zip(val_unseen_df[\"user_id\"], val_unseen_df[\"course_id\"]):\n",
    "    course_id_list = course_ids.split(' ')\n",
    "    val_unseen_user_haved_purchased_course[unseen_user_id] = val_unseen_user_haved_purchased_course.setdefault(unseen_user_id, []) + course_id_list\n",
    "    user_haved_purchased_course[unseen_user_id] = user_haved_purchased_course.setdefault(unseen_user_id, []) + course_id_list\n",
    "\n",
    "haved_purchased_users_list = []\n",
    "for user_id in train_user_haved_purchased_course.keys():\n",
    "    if len(train_user_haved_purchased_course[user_id]) >0:\n",
    "        haved_purchased_users_list.append(user_id)\n",
    "for user_id in val_seen_user_haved_purchased_course.keys():\n",
    "    if len(val_seen_user_haved_purchased_course[user_id]) >0:\n",
    "        haved_purchased_users_list.append(user_id)\n",
    "for user_id in val_unseen_user_haved_purchased_course.keys():\n",
    "    if len(val_unseen_user_haved_purchased_course[user_id]) >0:\n",
    "        haved_purchased_users_list.append(user_id)\n",
    "haved_purchased_users_list = list(set(haved_purchased_users_list))    \n",
    "\n",
    "print(len(train_user_haved_purchased_course))\n",
    "print(len(val_seen_user_haved_purchased_course))\n",
    "print(len(val_unseen_user_haved_purchased_course))\n",
    "print(len(haved_purchased_users_list))\n",
    "print(len(user_haved_purchased_course))"
   ]
  },
  {
   "cell_type": "code",
   "execution_count": 12,
   "metadata": {},
   "outputs": [],
   "source": [
    "with open('user_add_course_embedding.pickle', 'rb') as f:\n",
    "    user_add_course_embedding =pickle.load(f)"
   ]
  },
  {
   "attachments": {},
   "cell_type": "markdown",
   "metadata": {},
   "source": [
    "## 取得前top個相似且買過課程的users"
   ]
  },
  {
   "cell_type": "code",
   "execution_count": 154,
   "metadata": {},
   "outputs": [],
   "source": [
    "def get_recommend_users(user_id, cosine_sim, top = 10):\n",
    "    user_index = user2id_mapping[user_id]\n",
    "\n",
    "    sim_scores = list(enumerate(cosine_sim[user_index]))\n",
    "    sim_scores = sorted(sim_scores, key=lambda x: x[1], reverse=True)\n",
    "\n",
    "    recommend_indices = []\n",
    "    recommend_indices_weights = []\n",
    "    for i in range(len(sim_scores)):\n",
    "        if len(recommend_indices) < top:\n",
    "            if id2user_mapping[sim_scores[i][0]] not in haved_purchased_users_list: \n",
    "                continue\n",
    "            if sim_scores[i][0] not in [user_index]:\n",
    "                recommend_indices.append(sim_scores[i][0])\n",
    "                recommend_indices_weights.append(sim_scores[i][1])\n",
    "        else:\n",
    "            break\n",
    "\n",
    "    return recommend_indices, recommend_indices_weights"
   ]
  },
  {
   "attachments": {},
   "cell_type": "markdown",
   "metadata": {},
   "source": [
    "## 對Seen中的users計算並儲存"
   ]
  },
  {
   "cell_type": "code",
   "execution_count": null,
   "metadata": {},
   "outputs": [],
   "source": [
    "predict_users = test_seen_df[\"user_id\"].to_list()\n",
    "test_add_course_similiar_haved_purchased_users_300 = {}\n",
    "test_add_course_similiar_haved_purchased_300_weights = {}\n",
    "print(len(predict_users))\n",
    "for user_id in predict_users:\n",
    "    recommend_indices, recommend_indices_weights = get_recommend_users(user_id, user_add_course_embedding['Cos_sim'], 300)\n",
    "    test_add_course_similiar_haved_purchased_users_300.update({user_id: users_df['user_id'].iloc[recommend_indices].tolist()})\n",
    "    test_add_course_similiar_haved_purchased_300_weights.update({user_id: recommend_indices_weights})"
   ]
  },
  {
   "cell_type": "code",
   "execution_count": null,
   "metadata": {},
   "outputs": [],
   "source": [
    "with open('similar_users/seen_user_similar_add_course.pickle', 'wb') as f:\n",
    "    pickle.dump({\"similar_users\":test_add_course_similiar_haved_purchased_users_300, \"similar_user_weights\":test_add_course_similiar_haved_purchased_300_weights}, f)"
   ]
  },
  {
   "attachments": {},
   "cell_type": "markdown",
   "metadata": {},
   "source": [
    "## 對Unseen中的users計算並儲存"
   ]
  },
  {
   "cell_type": "code",
   "execution_count": null,
   "metadata": {},
   "outputs": [],
   "source": [
    "predict_users = test_unseen_df[\"user_id\"].to_list()\n",
    "test_add_course_similiar_haved_purchased_users_300 = {}\n",
    "test_add_course_similiar_haved_purchased_300_weights = {}\n",
    "print(len(predict_users))\n",
    "for user_id in predict_users:\n",
    "    recommend_indices, recommend_indices_weights = get_recommend_users(user_id, user_add_course_embedding['Cos_sim'], 300)\n",
    "    test_add_course_similiar_haved_purchased_users_300.update({user_id: users_df['user_id'].iloc[recommend_indices].tolist()})\n",
    "    test_add_course_similiar_haved_purchased_300_weights.update({user_id: recommend_indices_weights})"
   ]
  },
  {
   "cell_type": "code",
   "execution_count": null,
   "metadata": {},
   "outputs": [],
   "source": [
    "with open('similar_users/unseen_user_similar_add_course.pickle', 'wb') as f:\n",
    "    pickle.dump({\"similar_users\":test_add_course_similiar_haved_purchased_users_300, \"similar_user_weights\":test_add_course_similiar_haved_purchased_300_weights}, f)"
   ]
  }
 ],
 "metadata": {
  "kernelspec": {
   "display_name": "python3.9.15",
   "language": "python",
   "name": "python3"
  },
  "language_info": {
   "codemirror_mode": {
    "name": "ipython",
    "version": 3
   },
   "file_extension": ".py",
   "mimetype": "text/x-python",
   "name": "python",
   "nbconvert_exporter": "python",
   "pygments_lexer": "ipython3",
   "version": "3.9.15"
  },
  "orig_nbformat": 4,
  "vscode": {
   "interpreter": {
    "hash": "0bda997ab51b7154bfa0003e10cd793310fa86ef15b6cc5561292198cbcafbb0"
   }
  }
 },
 "nbformat": 4,
 "nbformat_minor": 2
}
