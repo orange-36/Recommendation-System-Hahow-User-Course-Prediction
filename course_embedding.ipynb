{
 "cells": [
  {
   "attachments": {},
   "cell_type": "markdown",
   "metadata": {},
   "source": [
    "# 課程 Vectorization"
   ]
  },
  {
   "cell_type": "code",
   "execution_count": 2,
   "metadata": {},
   "outputs": [],
   "source": [
    "import pandas as pd\n",
    "import pickle\n",
    "\n",
    "users_df = pd.read_csv('./data/users.csv')\n",
    "course_df = pd.read_csv('./data/courses.csv')   # course_df 課程資料包含:course_id, course_name, course_price, teacher_id, teacher_intro, groups, sub_groups, topics, course_published_at_local, description, will_learn, required_tools, recommended_background, target_group 等項目\n",
    "chapter_items_seq = pd.read_csv('./data/course_chapter_items_sequence.csv') # 課程各章節的詳細資訊"
   ]
  },
  {
   "attachments": {},
   "cell_type": "markdown",
   "metadata": {},
   "source": [
    "## 清理資料和選取Features"
   ]
  },
  {
   "cell_type": "code",
   "execution_count": null,
   "metadata": {},
   "outputs": [],
   "source": [
    "id2course_mapping = course_df[\"course_id\"].to_dict()\n",
    "course2id_mapping = {v : k for k, v in id2course_mapping.items()}\n",
    "len(course2id_mapping)\n",
    "\n",
    "id2user_mapping = users_df[\"user_id\"].to_dict()\n",
    "user2id_mapping = {v : k for k, v in id2user_mapping.items()}\n",
    "len(id2user_mapping)"
   ]
  },
  {
   "cell_type": "code",
   "execution_count": null,
   "metadata": {},
   "outputs": [],
   "source": [
    "course_chapters = {}\n",
    "for course_id, chapter_item_name_seq in zip(chapter_items_seq[\"course_id\"], chapter_items_seq[\"chapter_item_name_seq\"]):\n",
    "    chapter_item_name_seq = chapter_item_name_seq.replace('[', \"\")\n",
    "    chapter_item_name_seq = chapter_item_name_seq.replace(']', \"\")\n",
    "    chapter_item_name_seq = chapter_item_name_seq.replace('\\'', \"\")\n",
    "    chapter_item_name_seq = chapter_item_name_seq.replace(' ', \"\")\n",
    "    print(chapter_item_name_seq.split(','))\n",
    "    course_chapters[course_id] = course_chapters.setdefault(course_id, []) + chapter_item_name_seq.split(',')"
   ]
  },
  {
   "cell_type": "code",
   "execution_count": 14,
   "metadata": {},
   "outputs": [],
   "source": [
    "def get_course_chapters(x):\n",
    "    if x[\"course_id\"] in course_chapters.keys():\n",
    "        return str(course_chapters[x[\"course_id\"]])\n",
    "    else:\n",
    "        return \"\"\n",
    "\n",
    "course_df['chapters'] = course_df.apply(get_course_chapters, axis=1)"
   ]
  },
  {
   "cell_type": "code",
   "execution_count": null,
   "metadata": {},
   "outputs": [],
   "source": [
    "def clean_data(x):\n",
    "    if isinstance(x, int):\n",
    "        return x\n",
    "    return x.replace(\" \", \"\")\n",
    "\n",
    "filledna_df=course_df.fillna('')\n",
    "# 選取想使用的features\n",
    "features= ['course_name', 'teacher_intro', 'groups', 'sub_groups', 'topics', 'will_learn', 'recommended_background', 'target_group', 'required_tools', 'chapters', 'course_price']\n",
    "filledna_df=filledna_df[features]\n",
    "for feature in features:\n",
    "    filledna_df[feature] = filledna_df[feature].apply(clean_data)\n"
   ]
  },
  {
   "attachments": {},
   "cell_type": "markdown",
   "metadata": {},
   "source": [
    "## 將課程的文本資料做分詞"
   ]
  },
  {
   "cell_type": "code",
   "execution_count": null,
   "metadata": {},
   "outputs": [],
   "source": [
    "import jieba.analyse\n",
    "\n",
    "def create_soup(x):\n",
    "    course_name = str(jieba.analyse.extract_tags(x['course_name'], 10))\n",
    "    #teacher_intro = str(jieba.analyse.extract_tags(x['teacher_intro'], 10))\n",
    "    #will_learn = str(jieba.analyse.extract_tags(x['will_learn'], 10))\n",
    "    #recommended_background = str(jieba.analyse.extract_tags(x['recommended_background'], 10))\n",
    "    target_group = str(jieba.analyse.extract_tags(x['target_group'], 10))\n",
    "    #required_tools = str(jieba.analyse.extract_tags(x['required_tools'], 10))\n",
    "    chapters = str(jieba.analyse.extract_tags(x['chapters'], 20))\n",
    "    # course_name = x['course_name']\n",
    "    teacher_intro = x['teacher_intro']\n",
    "    will_learn = x['will_learn']\n",
    "    recommended_background = x['recommended_background']\n",
    "    target_group = x['target_group']\n",
    "    required_tools = x['required_tools']\n",
    "    #chapters = x['chapters']\n",
    "    money = ''\n",
    "    if x['course_price'] == 0:\n",
    "        money += '本課程完全免費 '\n",
    "    if x['course_price'] <= 1000:\n",
    "        money += '本課程比較便宜 '\n",
    "    elif x['course_price'] > 2000:\n",
    "        money += '本課程比較昂貴 '\n",
    "    text = money + ' ' + course_name + ' ' + teacher_intro + ' ' + x['groups'] + ' ' + x['sub_groups'] + ' ' + x['topics'] + ' ' + will_learn + ' ' + recommended_background + ' ' + target_group  + ' ' + chapters\n",
    "    return text\n",
    "\n",
    "filledna_df['soup'] = filledna_df.apply(create_soup, axis=1)"
   ]
  },
  {
   "attachments": {},
   "cell_type": "markdown",
   "metadata": {},
   "source": [
    "## 以TF-IDF將文本轉向量和計算課程間的相似度"
   ]
  },
  {
   "cell_type": "code",
   "execution_count": 84,
   "metadata": {},
   "outputs": [],
   "source": [
    "from sklearn.metrics.pairwise import cosine_similarity\n",
    "from sklearn.feature_extraction.text import TfidfVectorizer\n",
    "\n",
    "tfidf = TfidfVectorizer(stop_words= None)\n",
    "\n",
    "# Construct the required TF-IDF matrix\n",
    "tfidf_matrix = tfidf.fit_transform(filledna_df['soup'])"
   ]
  },
  {
   "cell_type": "code",
   "execution_count": null,
   "metadata": {},
   "outputs": [],
   "source": [
    "# Compute the cosine similarity matrix\n",
    "print(tfidf_matrix.shape)\n",
    "cosine_sim_matrix = cosine_similarity(tfidf_matrix, tfidf_matrix)\n",
    "# Output the shape of tfidf_matrix\n",
    "cosine_sim_matrix.shape"
   ]
  },
  {
   "attachments": {},
   "cell_type": "markdown",
   "metadata": {},
   "source": [
    "# 儲存結果"
   ]
  },
  {
   "cell_type": "code",
   "execution_count": 89,
   "metadata": {},
   "outputs": [],
   "source": [
    "import pickle\n",
    "tfidf_save = {\"TfidfVectorizer\": tfidf, \"Tfidf_matrix\": tfidf_matrix, \"Cos_Sim\": cosine_sim_matrix}\n",
    "with open('content_embeding/pure_context_jieba_name_target_chapters_AddPrice5Level.pickle', 'wb') as f:\n",
    "    pickle.dump(tfidf_save, f)"
   ]
  }
 ],
 "metadata": {
  "kernelspec": {
   "display_name": "python3.9.15",
   "language": "python",
   "name": "python3"
  },
  "language_info": {
   "codemirror_mode": {
    "name": "ipython",
    "version": 3
   },
   "file_extension": ".py",
   "mimetype": "text/x-python",
   "name": "python",
   "nbconvert_exporter": "python",
   "pygments_lexer": "ipython3",
   "version": "3.9.15"
  },
  "orig_nbformat": 4,
  "vscode": {
   "interpreter": {
    "hash": "0bda997ab51b7154bfa0003e10cd793310fa86ef15b6cc5561292198cbcafbb0"
   }
  }
 },
 "nbformat": 4,
 "nbformat_minor": 2
}
